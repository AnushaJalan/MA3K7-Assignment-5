{
 "cells": [
  {
   "cell_type": "markdown",
   "id": "27b4eed7",
   "metadata": {},
   "source": [
    "### Primes"
   ]
  },
  {
   "cell_type": "code",
   "execution_count": 114,
   "id": "0ccd115e",
   "metadata": {},
   "outputs": [
    {
     "data": {
      "image/png": "[encoded data removed]",
      "text/plain": [
       "<Figure size 432x288 with 1 Axes>"
      ]
     },
     "metadata": {
      "needs_background": "light"
     },
     "output_type": "display_data"
    }
   ],
   "source": [
    "import numpy as np\n",
    "import matplotlib.pyplot as plt\n",
    "import math\n",
    "\n",
    "\n",
    "# Uses Sieve of Eratosthenes to generate a list of primes going up to a large upper limit\n",
    "def get_primes(max_value):\n",
    "    # Initialize a boolean array to mark numbers as prime or not\n",
    "    is_prime = [True] * max_value\n",
    "    \n",
    "    # 0 and 1 are not prime, so mark them as False\n",
    "    is_prime[0] = is_prime[1] = False\n",
    "    \n",
    "    # Iterate through numbers up to the square root of max_value\n",
    "    for number in range(2, int(max_value**0.5) + 1):\n",
    "        # If the current number is prime\n",
    "        if is_prime[number]:\n",
    "            # Mark all multiples of the current number as not prime\n",
    "            for multiple in range(number * 2, max_value, number):\n",
    "                is_prime[multiple] = False\n",
    "                \n",
    "    # Return a list of prime numbers\n",
    "    return [number for number, prime in enumerate(is_prime) if prime]\n",
    "\n",
    "\n",
    "\n",
    "\n",
    "# We colour the grid white if not prime and black if prime, by comparing to above\n",
    "# We are generating a (2*(spirals-1)+1)) x (2*(spirals-1)+1)) grid with 'spiral' number of revolutions of the spiral\n",
    "def generateSpiral(spirals):\n",
    "\n",
    "    total_cells = (2*(spirals-1)+1)**2\n",
    "    size = 2*spirals+1\n",
    "\n",
    "    primes = get_primes(total_cells)\n",
    "\n",
    "    P = np.zeros((size,size)) # Positions used\n",
    "    U = np.zeros((size,size)) # Ulam spiral\n",
    "\n",
    "\n",
    "    x = spirals+1\n",
    "    y = spirals\n",
    "    P[y,x] = 1\n",
    "    U[y,x] = 2\n",
    "\n",
    "    # The first move, hence set to 1\n",
    "    P[y,x-1] = 1\n",
    "    # Since 1 is not prime we set the grid to 0\n",
    "    U[y,x-1] = 0\n",
    "\n",
    "    #stepping through the square spiral\n",
    "    for i in range(3, total_cells):\n",
    "        # Determine the next position based on surrounding taken positions\n",
    "        # If moving up keeps us in grid boundary\n",
    "        # If the position above is not taken \n",
    "        # If the position to the left is taken\n",
    "        # Then move up\n",
    "        if (y + 1 < size) and (P[y + 1, x] == 0) and (P[y, x - 1] == 1):\n",
    "            y += 1\n",
    "            # Mark the current position as taken/checked\n",
    "            P[y, x] = 1\n",
    "            # update the Ulam spiral with prime numbers\n",
    "            U[y,x] = (i in primes)*i\n",
    "        # moving left\n",
    "        elif (x - 1 < size) and (P[y, x - 1] == 0) and (P[y - 1, x] == 1):\n",
    "            x -= 1\n",
    "            P[y, x] = 1\n",
    "            U[y,x] = (i in primes)*i\n",
    "           # moving down\n",
    "        elif (y - 1 >= 0) and (P[y - 1, x] == 0) and (P[y, x + 1] == 1):\n",
    "            y -= 1\n",
    "            P[y, x] = 1\n",
    "            U[y,x] = (i in primes)*i\n",
    "            #moving right \n",
    "        else:\n",
    "            x += 1\n",
    "            P[y, x] = 1\n",
    "            U[y,x] = (i in primes)*i\n",
    "        \n",
    "    \n",
    "    \n",
    "    return U\n",
    "\n",
    "\n",
    "lim= 15\n",
    "P = (generateSpiral(lim) > 0).astype(int)\n",
    "P_flipped = np.flipud(P)\n",
    "\n",
    "plt.title('Ulam spiral up to '+str((2*(lim-1)+1)**2), fontsize=15)\n",
    "plt.axis('off')\n",
    "plt.imshow(P_flipped,cmap=\"binary\",interpolation=\"nearest\")\n",
    "plt.show()\n"
   ]
  },
  {
   "cell_type": "markdown",
   "id": "8b5c3406",
   "metadata": {},
   "source": [
    "### Even and odd"
   ]
  },
  {
   "cell_type": "code",
   "execution_count": 115,
   "id": "fa282c7d",
   "metadata": {},
   "outputs": [
    {
     "data": {
      "image/png": "[encoded data removed]",
      "text/plain": [
       "<Figure size 432x288 with 1 Axes>"
      ]
     },
     "metadata": {
      "needs_background": "light"
     },
     "output_type": "display_data"
    }
   ],
   "source": [
    "# We colour the grid white if odd and black if even\n",
    "\n",
    "def generateSpiral(spirals):\n",
    "\n",
    "    total_cells = (2*(spirals-1)+1)**2\n",
    "    size = 2*spirals+1\n",
    "\n",
    "\n",
    "    P = np.zeros((size,size))\n",
    "    E = np.zeros((size,size)) \n",
    "\n",
    "\n",
    "    x = spirals+1\n",
    "    y = spirals\n",
    "    P[y,x] = 1\n",
    "    E[y,x] = 2\n",
    "\n",
    "    # The first move, hence set to 1\n",
    "    P[y,x-1] = 1\n",
    "    # Since 1 is odd we set the grid to 0\n",
    "    # E for even spiral \n",
    "    E[y,x-1] = 0\n",
    "\n",
    "    #stepping through the square spiral\n",
    "    for i in range(3, total_cells):\n",
    "        # Then move up\n",
    "        if (y + 1 < size) and (P[y + 1, x] == 0) and (P[y, x - 1] == 1):\n",
    "            y += 1\n",
    "            # Mark the current position as taken/checked\n",
    "            P[y, x] = 1\n",
    "            # update the spiral with even numbers\n",
    "            E[y,x] = (i % 2 == 0) * i # Check if i is even\n",
    "        # moving left\n",
    "        elif (x - 1 >= 0) and (P[y, x - 1] == 0) and (P[y - 1, x] == 1):\n",
    "            x -= 1\n",
    "            P[y, x] = 1\n",
    "            E[y,x] = (i % 2 == 0) * i \n",
    "           # moving down\n",
    "        elif (y - 1 >= 0) and (P[y - 1, x] == 0) and (P[y, x + 1] == 1):\n",
    "            y -= 1\n",
    "            P[y, x] = 1\n",
    "            E[y,x] = (i % 2 == 0) * i \n",
    "            #moving right \n",
    "        else:\n",
    "            x += 1\n",
    "            P[y, x] = 1\n",
    "            E[y,x] = (i % 2 == 0) * i\n",
    "    \n",
    "    return E\n",
    "\n",
    "lim= 4\n",
    "P = (generateSpiral(lim) > 0).astype(int)\n",
    "plt.title('Spiral up to '+ str((2 * (lim - 1) + 1)**2), fontsize=15)\n",
    "plt.axis('off')\n",
    "\n",
    "plt.imshow(P,cmap=\"binary\",interpolation=\"nearest\")\n",
    "plt.show()\n"
   ]
  },
  {
   "cell_type": "markdown",
   "id": "72e28d2e",
   "metadata": {},
   "source": [
    "### Square numbers "
   ]
  },
  {
   "cell_type": "code",
   "execution_count": 120,
   "id": "d58d6f78",
   "metadata": {},
   "outputs": [
    {
     "name": "stdout",
     "output_type": "stream",
     "text": [
      "[1, 4, 9, 16, 25, 36, 49, 64, 81, 100, 121, 144, 169, 196, 225, 256, 289, 324, 361, 400, 441, 484, 529, 576, 625, 676, 729, 784, 841, 900, 961, 1024, 1089, 1156, 1225, 1296, 1369, 1444, 1521, 1600, 1681, 1764, 1849, 1936, 2025, 2116, 2209, 2304, 2401]\n"
     ]
    }
   ],
   "source": [
    "squares=[]\n",
    "\n",
    "for i in range (1,50):\n",
    "    squares.append(i**2) \n",
    "\n",
    "print(squares)"
   ]
  },
  {
   "cell_type": "markdown",
   "id": "1f18e84b",
   "metadata": {},
   "source": [
    "Our spiral is going the anticlockwise way so we need to flip it"
   ]
  },
  {
   "cell_type": "code",
   "execution_count": 116,
   "id": "1b613180",
   "metadata": {},
   "outputs": [
    {
     "data": {
      "image/png": "[encoded data removed]",
      "text/plain": [
       "<Figure size 432x288 with 1 Axes>"
      ]
     },
     "metadata": {
      "needs_background": "light"
     },
     "output_type": "display_data"
    }
   ],
   "source": [
    "import numpy as np\n",
    "import matplotlib.pyplot as plt\n",
    "\n",
    "# Define the limit of squares\n",
    "lim = 3\n",
    "\n",
    "# Generate squares up to the limit\n",
    "squares = []\n",
    "for i in range(1, (2 * lim - 1) + 1):\n",
    "    squares.append(i ** 2)\n",
    "\n",
    "# Generate the spiral\n",
    "def generateSpiral(spirals):\n",
    "    total_cells = (2*(spirals-1)+1)**2\n",
    "    size = 2*spirals+1\n",
    "\n",
    "    # Initialize to a white grid with no positions being filled \n",
    "    P = np.zeros((size,size)) # Positions used\n",
    "    S = np.zeros((size,size)) # Squares spiral\n",
    "\n",
    "    x = spirals\n",
    "    y = spirals\n",
    "\n",
    "    # The first move, hence set to 1\n",
    "    P[y, x] = 1\n",
    "    # Since 1 is a square number we set to 1\n",
    "    S[y, x] = 1\n",
    "\n",
    "    # Stepping through the square spiral\n",
    "    for i in range(2, total_cells + 1):\n",
    "        if (y - 1 >= 0) and (P[y - 1, x] == 0) and (P[y, x + 1] == 1 or x + 1 >= size):\n",
    "            y -= 1\n",
    "            P[y, x] = 1\n",
    "            if i in squares:\n",
    "                S[y, x] = 1\n",
    "        elif (x - 1 >= 0) and (P[y, x - 1] == 0) and (P[y - 1, x] == 1 or y - 1 < 0):\n",
    "            x -= 1\n",
    "            P[y, x] = 1\n",
    "            if i in squares:\n",
    "                S[y, x] = 1\n",
    "        elif (y + 1 < size) and (P[y + 1, x] == 0) and (P[y, x - 1] == 1 or x - 1 < 0):\n",
    "            y += 1\n",
    "            P[y, x] = 1\n",
    "            if i in squares:\n",
    "                S[y, x] = 1\n",
    "        else:\n",
    "            x += 1\n",
    "            P[y, x] = 1\n",
    "            if i in squares:\n",
    "                S[y, x] = 1\n",
    "    \n",
    "    return S\n",
    "\n",
    "# Generate spiral\n",
    "P = (generateSpiral(lim) > 0).astype(int)\n",
    "P_flipped = np.fliplr(P)\n",
    "\n",
    "# Plot spiral\n",
    "plt.title('Spiral up to ' + str((2 * (lim - 1) + 1)**2), fontsize=15)\n",
    "plt.axis('off')\n",
    "plt.imshow(P_flipped, cmap=\"binary\", interpolation=\"nearest\")\n",
    "plt.show()\n"
   ]
  },
  {
   "cell_type": "markdown",
   "id": "b0c39b41",
   "metadata": {},
   "source": [
    "### Multiples of a variable number 'num'"
   ]
  },
  {
   "cell_type": "markdown",
   "id": "58b6df20",
   "metadata": {},
   "source": [
    "Using same code as above but changing the reference list to multiples of a chosen number"
   ]
  },
  {
   "cell_type": "code",
   "execution_count": 117,
   "id": "fc66ad22",
   "metadata": {},
   "outputs": [
    {
     "data": {
      "image/png": "[encoded data removed]",
      "text/plain": [
       "<Figure size 432x288 with 1 Axes>"
      ]
     },
     "metadata": {
      "needs_background": "light"
     },
     "output_type": "display_data"
    }
   ],
   "source": [
    "import numpy as np\n",
    "import matplotlib.pyplot as plt\n",
    "\n",
    "# Define the limit of squares\n",
    "lim = 15\n",
    "num = 3\n",
    "\n",
    "# Generate squares up to the limit\n",
    "multiples = []\n",
    "for i in range(1, (2*(lim-1)+1)**2):\n",
    "    multiples.append(num * i)\n",
    "\n",
    "\n",
    "# Generate the spiral\n",
    "def generateSpiral(spirals):\n",
    "    total_cells = (2*(spirals-1)+1)**2\n",
    "    size = 2*spirals+1\n",
    "\n",
    "    P = np.zeros((size,size)) \n",
    "    M = np.zeros((size,size)) \n",
    "\n",
    "    x = spirals\n",
    "    y = spirals\n",
    "\n",
    "    # The first move, hence set to 1\n",
    "    P[y, x] = 1\n",
    "    # Since 1 is a square number we set to 1\n",
    "    M[y, x] = 1\n",
    "\n",
    "    # Stepping through the square spiral\n",
    "    for i in range(2, total_cells + 1):\n",
    "        if (y - 1 >= 0) and (P[y - 1, x] == 0) and (P[y, x + 1] == 1 or x + 1 >= size):\n",
    "            y -= 1\n",
    "            P[y, x] = 1\n",
    "            if i in multiples:\n",
    "                M[y, x] = 1\n",
    "        elif (x - 1 >= 0) and (P[y, x - 1] == 0) and (P[y - 1, x] == 1 or y - 1 < 0):\n",
    "            x -= 1\n",
    "            P[y, x] = 1\n",
    "            if i in multiples:\n",
    "                M[y, x] = 1\n",
    "        elif (y + 1 < size) and (P[y + 1, x] == 0) and (P[y, x - 1] == 1 or x - 1 < 0):\n",
    "            y += 1\n",
    "            P[y, x] = 1\n",
    "            if i in multiples:\n",
    "                M[y, x] = 1\n",
    "        else:\n",
    "            x += 1\n",
    "            P[y, x] = 1\n",
    "            if i in multiples:\n",
    "                M[y, x] = 1\n",
    "    \n",
    "    return M\n",
    "\n",
    "# Generate spiral\n",
    "P = (generateSpiral(lim) > 0).astype(int)\n",
    "P_flipped = np.fliplr(P)\n",
    "\n",
    "# Plot spiral\n",
    "plt.title('Spiral up to ' + str((2 * (lim - 1) + 1)**2), fontsize=15)\n",
    "plt.axis('off')\n",
    "plt.imshow(P_flipped, cmap=\"binary\", interpolation=\"nearest\")\n",
    "plt.show()\n"
   ]
  },
  {
   "cell_type": "code",
   "execution_count": null,
   "id": "73e9d603",
   "metadata": {},
   "outputs": [],
   "source": []
  }
 ],
 "metadata": {
  "kernelspec": {
   "display_name": "Python 3 (ipykernel)",
   "language": "python",
   "name": "python3"
  },
  "language_info": {
   "codemirror_mode": {
    "name": "ipython",
    "version": 3
   },
   "file_extension": ".py",
   "mimetype": "text/x-python",
   "name": "python",
   "nbconvert_exporter": "python",
   "pygments_lexer": "ipython3",
   "version": "3.9.7"
  }
 },
 "nbformat": 4,
 "nbformat_minor": 5
}
